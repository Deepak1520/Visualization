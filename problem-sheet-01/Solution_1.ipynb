{
 "cells": [
  {
   "cell_type": "markdown",
   "id": "6ee9b4b6",
   "metadata": {},
   "source": [
    "## Exercise 1.1: tidying a dataset.\n",
    "Inspect the dataset contained in the \u001c",
    "le runtimes.csv and import it into Python as a pandas\n",
    "dataframe. Note that one variable (the number of threads) is encoded in column names. Bring\n",
    "this dataset into tidy form, as described in https://r4ds.hadley.nz/data-tidy.html using\n",
    "functions such as pandas.melt (and some post-processing with auxiliary functions). Make sure\n",
    "that columns in the resulting dataframe have meaningful names and dtypes."
   ]
  },
  {
   "cell_type": "code",
   "execution_count": 161,
   "id": "f5ee3368",
   "metadata": {},
   "outputs": [],
   "source": [
    "## Importing necessary libraries\n",
    "import pandas as pd"
   ]
  },
  {
   "cell_type": "code",
   "execution_count": 162,
   "id": "d00158a2",
   "metadata": {},
   "outputs": [],
   "source": [
    "df = pd.read_csv('runtimes.csv', delimiter = '\\t')"
   ]
  },
  {
   "cell_type": "code",
   "execution_count": 163,
   "id": "1a14f2bf",
   "metadata": {},
   "outputs": [
    {
     "data": {
      "text/plain": [
       "<bound method NDFrame.head of    # runtimes of two algorithms on problems of varying size, and with different number of threads\n",
       "0             # algo: single or distributed algorithm                                            \n",
       "1                                # size: problem size                                            \n",
       "2   # time1 to time5: runtime in seconds for diffe...                                            \n",
       "3             algo,size,time1,time2,time3,time4,time5                                            \n",
       "4   distributed,4096,3.736606470743815,2.133074198...                                            \n",
       "5   distributed,16384,14.792793687184652,7.8940310...                                            \n",
       "6   distributed,65536,59.12334657775031,30.7624864...                                            \n",
       "7   distributed,262144,240.7474482483334,124.44867...                                            \n",
       "8   distributed,1048576,1097.7883522351583,567.038...                                            \n",
       "9   distributed,4194304,4845.007061391407,2501.408...                                            \n",
       "10                 single,4096,3.6226933683667855,,,,                                            \n",
       "11                single,16384,26.792361004011973,,,,                                            \n",
       "12                  single,65536,127.812326499394,,,,                                            \n",
       "13               single,262144,281.99478266920363,,,,                                            >"
      ]
     },
     "execution_count": 163,
     "metadata": {},
     "output_type": "execute_result"
    }
   ],
   "source": [
    "df.head"
   ]
  },
  {
   "cell_type": "code",
   "execution_count": 164,
   "id": "ce284267",
   "metadata": {},
   "outputs": [],
   "source": [
    "df_1 = pd.read_csv('runtimes.csv', skiprows = 4) #skipped first 3 rows which contains the metadata and comments"
   ]
  },
  {
   "cell_type": "code",
   "execution_count": 165,
   "id": "ae5be96d",
   "metadata": {},
   "outputs": [
    {
     "data": {
      "text/html": [
       "<div>\n",
       "<style scoped>\n",
       "    .dataframe tbody tr th:only-of-type {\n",
       "        vertical-align: middle;\n",
       "    }\n",
       "\n",
       "    .dataframe tbody tr th {\n",
       "        vertical-align: top;\n",
       "    }\n",
       "\n",
       "    .dataframe thead th {\n",
       "        text-align: right;\n",
       "    }\n",
       "</style>\n",
       "<table border=\"1\" class=\"dataframe\">\n",
       "  <thead>\n",
       "    <tr style=\"text-align: right;\">\n",
       "      <th></th>\n",
       "      <th>algo</th>\n",
       "      <th>size</th>\n",
       "      <th>time1</th>\n",
       "      <th>time2</th>\n",
       "      <th>time3</th>\n",
       "      <th>time4</th>\n",
       "      <th>time5</th>\n",
       "    </tr>\n",
       "  </thead>\n",
       "  <tbody>\n",
       "    <tr>\n",
       "      <th>0</th>\n",
       "      <td>distributed</td>\n",
       "      <td>4096</td>\n",
       "      <td>3.736606</td>\n",
       "      <td>2.133074</td>\n",
       "      <td>1.673441</td>\n",
       "      <td>1.515788</td>\n",
       "      <td>1.475265</td>\n",
       "    </tr>\n",
       "    <tr>\n",
       "      <th>1</th>\n",
       "      <td>distributed</td>\n",
       "      <td>16384</td>\n",
       "      <td>14.792794</td>\n",
       "      <td>7.894031</td>\n",
       "      <td>5.681171</td>\n",
       "      <td>4.597697</td>\n",
       "      <td>3.988286</td>\n",
       "    </tr>\n",
       "    <tr>\n",
       "      <th>2</th>\n",
       "      <td>distributed</td>\n",
       "      <td>65536</td>\n",
       "      <td>59.123347</td>\n",
       "      <td>30.762486</td>\n",
       "      <td>21.436608</td>\n",
       "      <td>16.510129</td>\n",
       "      <td>13.637740</td>\n",
       "    </tr>\n",
       "    <tr>\n",
       "      <th>3</th>\n",
       "      <td>distributed</td>\n",
       "      <td>262144</td>\n",
       "      <td>240.747448</td>\n",
       "      <td>124.448679</td>\n",
       "      <td>85.384094</td>\n",
       "      <td>64.732369</td>\n",
       "      <td>53.544233</td>\n",
       "    </tr>\n",
       "    <tr>\n",
       "      <th>4</th>\n",
       "      <td>distributed</td>\n",
       "      <td>1048576</td>\n",
       "      <td>1097.788352</td>\n",
       "      <td>567.038172</td>\n",
       "      <td>383.563617</td>\n",
       "      <td>290.182877</td>\n",
       "      <td>242.494498</td>\n",
       "    </tr>\n",
       "  </tbody>\n",
       "</table>\n",
       "</div>"
      ],
      "text/plain": [
       "          algo     size        time1       time2       time3       time4  \\\n",
       "0  distributed     4096     3.736606    2.133074    1.673441    1.515788   \n",
       "1  distributed    16384    14.792794    7.894031    5.681171    4.597697   \n",
       "2  distributed    65536    59.123347   30.762486   21.436608   16.510129   \n",
       "3  distributed   262144   240.747448  124.448679   85.384094   64.732369   \n",
       "4  distributed  1048576  1097.788352  567.038172  383.563617  290.182877   \n",
       "\n",
       "        time5  \n",
       "0    1.475265  \n",
       "1    3.988286  \n",
       "2   13.637740  \n",
       "3   53.544233  \n",
       "4  242.494498  "
      ]
     },
     "execution_count": 165,
     "metadata": {},
     "output_type": "execute_result"
    }
   ],
   "source": [
    "df_1.head()"
   ]
  },
  {
   "cell_type": "code",
   "execution_count": 166,
   "id": "8285b7f9",
   "metadata": {},
   "outputs": [],
   "source": [
    "#to bring the dataset into tidy form, we need to reshape \n",
    "#the dataset such that each variable forms a column and each observation forms a row\n",
    "tidy_df = pd.melt(df_1, id_vars = ['algo','size'], \n",
    "                    value_vars = ['time1','time2','time3','time4','time5'], \n",
    "                    var_name = \"time_type\", \n",
    "                    value_name = \"runtime\")"
   ]
  },
  {
   "cell_type": "code",
   "execution_count": 167,
   "id": "b96aca64",
   "metadata": {},
   "outputs": [
    {
     "data": {
      "text/html": [
       "<div>\n",
       "<style scoped>\n",
       "    .dataframe tbody tr th:only-of-type {\n",
       "        vertical-align: middle;\n",
       "    }\n",
       "\n",
       "    .dataframe tbody tr th {\n",
       "        vertical-align: top;\n",
       "    }\n",
       "\n",
       "    .dataframe thead th {\n",
       "        text-align: right;\n",
       "    }\n",
       "</style>\n",
       "<table border=\"1\" class=\"dataframe\">\n",
       "  <thead>\n",
       "    <tr style=\"text-align: right;\">\n",
       "      <th></th>\n",
       "      <th>algo</th>\n",
       "      <th>size</th>\n",
       "      <th>time_type</th>\n",
       "      <th>runtime</th>\n",
       "    </tr>\n",
       "  </thead>\n",
       "  <tbody>\n",
       "    <tr>\n",
       "      <th>0</th>\n",
       "      <td>distributed</td>\n",
       "      <td>4096</td>\n",
       "      <td>time1</td>\n",
       "      <td>3.736606</td>\n",
       "    </tr>\n",
       "    <tr>\n",
       "      <th>1</th>\n",
       "      <td>distributed</td>\n",
       "      <td>16384</td>\n",
       "      <td>time1</td>\n",
       "      <td>14.792794</td>\n",
       "    </tr>\n",
       "    <tr>\n",
       "      <th>2</th>\n",
       "      <td>distributed</td>\n",
       "      <td>65536</td>\n",
       "      <td>time1</td>\n",
       "      <td>59.123347</td>\n",
       "    </tr>\n",
       "    <tr>\n",
       "      <th>3</th>\n",
       "      <td>distributed</td>\n",
       "      <td>262144</td>\n",
       "      <td>time1</td>\n",
       "      <td>240.747448</td>\n",
       "    </tr>\n",
       "    <tr>\n",
       "      <th>4</th>\n",
       "      <td>distributed</td>\n",
       "      <td>1048576</td>\n",
       "      <td>time1</td>\n",
       "      <td>1097.788352</td>\n",
       "    </tr>\n",
       "  </tbody>\n",
       "</table>\n",
       "</div>"
      ],
      "text/plain": [
       "          algo     size time_type      runtime\n",
       "0  distributed     4096     time1     3.736606\n",
       "1  distributed    16384     time1    14.792794\n",
       "2  distributed    65536     time1    59.123347\n",
       "3  distributed   262144     time1   240.747448\n",
       "4  distributed  1048576     time1  1097.788352"
      ]
     },
     "execution_count": 167,
     "metadata": {},
     "output_type": "execute_result"
    }
   ],
   "source": [
    "tidy_df.head()"
   ]
  },
  {
   "cell_type": "code",
   "execution_count": 168,
   "id": "ee09ec39",
   "metadata": {},
   "outputs": [
    {
     "name": "stdout",
     "output_type": "stream",
     "text": [
      "algo: object\n",
      "size: int64\n",
      "time_type: object\n",
      "runtime: float64\n"
     ]
    }
   ],
   "source": [
    "#Inspecting columns dtypes\n",
    "\n",
    "for column in tidy_df.columns:\n",
    "    print(f'{column}: {tidy_df[column].dtype}')"
   ]
  },
  {
   "cell_type": "code",
   "execution_count": 169,
   "id": "646f909f",
   "metadata": {},
   "outputs": [
    {
     "data": {
      "text/plain": [
       "algo          0\n",
       "size          0\n",
       "time_type     0\n",
       "runtime      16\n",
       "dtype: int64"
      ]
     },
     "execution_count": 169,
     "metadata": {},
     "output_type": "execute_result"
    }
   ],
   "source": [
    "#further Processings\n",
    "tidy_df.isnull().sum() #looking for null values"
   ]
  },
  {
   "cell_type": "code",
   "execution_count": 170,
   "id": "6a280a0b",
   "metadata": {},
   "outputs": [],
   "source": [
    "#we see \"runtime\" column has 16 null values. Now we need to figure out a way to deal with the null value. \n",
    "#Here, I will take into account  two options to deal with null value\n",
    "#option 1: We can completely remove the rows which contains the null value\n",
    "#option 2: Replace null values with the mean value of that particular column"
   ]
  },
  {
   "cell_type": "code",
   "execution_count": 171,
   "id": "f32228ac",
   "metadata": {},
   "outputs": [],
   "source": [
    "null_values_by_algo = tidy_df.groupby('algo')['runtime'].apply(lambda x: x.isnull().sum()).reset_index()\n",
    "null_values_by_algo.columns = ['algo', 'null_values']"
   ]
  },
  {
   "cell_type": "code",
   "execution_count": 172,
   "id": "c9179508",
   "metadata": {},
   "outputs": [
    {
     "data": {
      "text/html": [
       "<div>\n",
       "<style scoped>\n",
       "    .dataframe tbody tr th:only-of-type {\n",
       "        vertical-align: middle;\n",
       "    }\n",
       "\n",
       "    .dataframe tbody tr th {\n",
       "        vertical-align: top;\n",
       "    }\n",
       "\n",
       "    .dataframe thead th {\n",
       "        text-align: right;\n",
       "    }\n",
       "</style>\n",
       "<table border=\"1\" class=\"dataframe\">\n",
       "  <thead>\n",
       "    <tr style=\"text-align: right;\">\n",
       "      <th></th>\n",
       "      <th>algo</th>\n",
       "      <th>null_values</th>\n",
       "    </tr>\n",
       "  </thead>\n",
       "  <tbody>\n",
       "    <tr>\n",
       "      <th>0</th>\n",
       "      <td>distributed</td>\n",
       "      <td>0</td>\n",
       "    </tr>\n",
       "    <tr>\n",
       "      <th>1</th>\n",
       "      <td>single</td>\n",
       "      <td>16</td>\n",
       "    </tr>\n",
       "  </tbody>\n",
       "</table>\n",
       "</div>"
      ],
      "text/plain": [
       "          algo  null_values\n",
       "0  distributed            0\n",
       "1       single           16"
      ]
     },
     "execution_count": 172,
     "metadata": {},
     "output_type": "execute_result"
    }
   ],
   "source": [
    "null_values_by_algo"
   ]
  },
  {
   "cell_type": "code",
   "execution_count": 173,
   "id": "350ced74",
   "metadata": {},
   "outputs": [],
   "source": [
    "# Here we see all the null values belongs to \"single\" algorithm type, so it doesn't make sense to replace the null\n",
    "#values with the mean of the whole dataset.\n",
    "single_df = tidy_df[tidy_df['algo'] == 'single']"
   ]
  },
  {
   "cell_type": "code",
   "execution_count": 174,
   "id": "a90f1283",
   "metadata": {},
   "outputs": [
    {
     "data": {
      "text/plain": [
       "110.0555408852441"
      ]
     },
     "execution_count": 174,
     "metadata": {},
     "output_type": "execute_result"
    }
   ],
   "source": [
    "single_df_mean = single_df['runtime'].mean()\n",
    "single_df_mean\n"
   ]
  },
  {
   "cell_type": "code",
   "execution_count": 175,
   "id": "40244925",
   "metadata": {},
   "outputs": [],
   "source": [
    "#now we'll replace all the null values with mean runtime where algo is 'single'\n",
    "\n",
    "tidy_df['runtime'].fillna(single_df_mean, inplace = True)"
   ]
  },
  {
   "cell_type": "code",
   "execution_count": 176,
   "id": "ef1b5d23",
   "metadata": {},
   "outputs": [
    {
     "data": {
      "text/html": [
       "<div>\n",
       "<style scoped>\n",
       "    .dataframe tbody tr th:only-of-type {\n",
       "        vertical-align: middle;\n",
       "    }\n",
       "\n",
       "    .dataframe tbody tr th {\n",
       "        vertical-align: top;\n",
       "    }\n",
       "\n",
       "    .dataframe thead th {\n",
       "        text-align: right;\n",
       "    }\n",
       "</style>\n",
       "<table border=\"1\" class=\"dataframe\">\n",
       "  <thead>\n",
       "    <tr style=\"text-align: right;\">\n",
       "      <th></th>\n",
       "      <th>algo</th>\n",
       "      <th>size</th>\n",
       "      <th>time_type</th>\n",
       "      <th>runtime</th>\n",
       "    </tr>\n",
       "  </thead>\n",
       "  <tbody>\n",
       "    <tr>\n",
       "      <th>0</th>\n",
       "      <td>distributed</td>\n",
       "      <td>4096</td>\n",
       "      <td>time1</td>\n",
       "      <td>3.736606</td>\n",
       "    </tr>\n",
       "    <tr>\n",
       "      <th>1</th>\n",
       "      <td>distributed</td>\n",
       "      <td>16384</td>\n",
       "      <td>time1</td>\n",
       "      <td>14.792794</td>\n",
       "    </tr>\n",
       "    <tr>\n",
       "      <th>2</th>\n",
       "      <td>distributed</td>\n",
       "      <td>65536</td>\n",
       "      <td>time1</td>\n",
       "      <td>59.123347</td>\n",
       "    </tr>\n",
       "    <tr>\n",
       "      <th>3</th>\n",
       "      <td>distributed</td>\n",
       "      <td>262144</td>\n",
       "      <td>time1</td>\n",
       "      <td>240.747448</td>\n",
       "    </tr>\n",
       "    <tr>\n",
       "      <th>4</th>\n",
       "      <td>distributed</td>\n",
       "      <td>1048576</td>\n",
       "      <td>time1</td>\n",
       "      <td>1097.788352</td>\n",
       "    </tr>\n",
       "  </tbody>\n",
       "</table>\n",
       "</div>"
      ],
      "text/plain": [
       "          algo     size time_type      runtime\n",
       "0  distributed     4096     time1     3.736606\n",
       "1  distributed    16384     time1    14.792794\n",
       "2  distributed    65536     time1    59.123347\n",
       "3  distributed   262144     time1   240.747448\n",
       "4  distributed  1048576     time1  1097.788352"
      ]
     },
     "execution_count": 176,
     "metadata": {},
     "output_type": "execute_result"
    }
   ],
   "source": [
    "tidy_df.head()"
   ]
  },
  {
   "cell_type": "markdown",
   "id": "015203ed",
   "metadata": {},
   "source": [
    "# Exercise 1.2: basic transformations and visualizations.\n",
    "The file mpg-data.csv contains the mpg example dataset from the ggplot2 library (https:\n",
    "//ggplot2.tidyverse.org/reference/mpg.html) which contains information about the fuel\n",
    "efciency of various car models."
   ]
  },
  {
   "cell_type": "markdown",
   "id": "8c9906db",
   "metadata": {},
   "source": [
    "### 1. Import the dataset into Python via pandas and brie\u001d",
    "y specify the dtype of each column(consult the documentation).\n"
   ]
  },
  {
   "cell_type": "code",
   "execution_count": 177,
   "id": "722c6cb5",
   "metadata": {},
   "outputs": [],
   "source": [
    "# importing data\n",
    "MPG_df = pd.read_csv('mpg-data.csv')"
   ]
  },
  {
   "cell_type": "code",
   "execution_count": 178,
   "id": "d291a768",
   "metadata": {},
   "outputs": [
    {
     "data": {
      "text/html": [
       "<div>\n",
       "<style scoped>\n",
       "    .dataframe tbody tr th:only-of-type {\n",
       "        vertical-align: middle;\n",
       "    }\n",
       "\n",
       "    .dataframe tbody tr th {\n",
       "        vertical-align: top;\n",
       "    }\n",
       "\n",
       "    .dataframe thead th {\n",
       "        text-align: right;\n",
       "    }\n",
       "</style>\n",
       "<table border=\"1\" class=\"dataframe\">\n",
       "  <thead>\n",
       "    <tr style=\"text-align: right;\">\n",
       "      <th></th>\n",
       "      <th>manufacturer</th>\n",
       "      <th>model</th>\n",
       "      <th>displ</th>\n",
       "      <th>year</th>\n",
       "      <th>cyl</th>\n",
       "      <th>trans</th>\n",
       "      <th>drv</th>\n",
       "      <th>cty</th>\n",
       "      <th>hwy</th>\n",
       "      <th>fl</th>\n",
       "      <th>class</th>\n",
       "    </tr>\n",
       "  </thead>\n",
       "  <tbody>\n",
       "    <tr>\n",
       "      <th>0</th>\n",
       "      <td>audi</td>\n",
       "      <td>a4</td>\n",
       "      <td>1.8</td>\n",
       "      <td>1999</td>\n",
       "      <td>4</td>\n",
       "      <td>auto(l5)</td>\n",
       "      <td>f</td>\n",
       "      <td>18</td>\n",
       "      <td>29</td>\n",
       "      <td>p</td>\n",
       "      <td>compact</td>\n",
       "    </tr>\n",
       "    <tr>\n",
       "      <th>1</th>\n",
       "      <td>audi</td>\n",
       "      <td>a4</td>\n",
       "      <td>1.8</td>\n",
       "      <td>1999</td>\n",
       "      <td>4</td>\n",
       "      <td>manual(m5)</td>\n",
       "      <td>f</td>\n",
       "      <td>21</td>\n",
       "      <td>29</td>\n",
       "      <td>p</td>\n",
       "      <td>compact</td>\n",
       "    </tr>\n",
       "    <tr>\n",
       "      <th>2</th>\n",
       "      <td>audi</td>\n",
       "      <td>a4</td>\n",
       "      <td>2.0</td>\n",
       "      <td>2008</td>\n",
       "      <td>4</td>\n",
       "      <td>manual(m6)</td>\n",
       "      <td>f</td>\n",
       "      <td>20</td>\n",
       "      <td>31</td>\n",
       "      <td>p</td>\n",
       "      <td>compact</td>\n",
       "    </tr>\n",
       "    <tr>\n",
       "      <th>3</th>\n",
       "      <td>audi</td>\n",
       "      <td>a4</td>\n",
       "      <td>2.0</td>\n",
       "      <td>2008</td>\n",
       "      <td>4</td>\n",
       "      <td>auto(av)</td>\n",
       "      <td>f</td>\n",
       "      <td>21</td>\n",
       "      <td>30</td>\n",
       "      <td>p</td>\n",
       "      <td>compact</td>\n",
       "    </tr>\n",
       "    <tr>\n",
       "      <th>4</th>\n",
       "      <td>audi</td>\n",
       "      <td>a4</td>\n",
       "      <td>2.8</td>\n",
       "      <td>1999</td>\n",
       "      <td>6</td>\n",
       "      <td>auto(l5)</td>\n",
       "      <td>f</td>\n",
       "      <td>16</td>\n",
       "      <td>26</td>\n",
       "      <td>p</td>\n",
       "      <td>compact</td>\n",
       "    </tr>\n",
       "  </tbody>\n",
       "</table>\n",
       "</div>"
      ],
      "text/plain": [
       "  manufacturer model  displ  year  cyl       trans drv  cty  hwy fl    class\n",
       "0         audi    a4    1.8  1999    4    auto(l5)   f   18   29  p  compact\n",
       "1         audi    a4    1.8  1999    4  manual(m5)   f   21   29  p  compact\n",
       "2         audi    a4    2.0  2008    4  manual(m6)   f   20   31  p  compact\n",
       "3         audi    a4    2.0  2008    4    auto(av)   f   21   30  p  compact\n",
       "4         audi    a4    2.8  1999    6    auto(l5)   f   16   26  p  compact"
      ]
     },
     "execution_count": 178,
     "metadata": {},
     "output_type": "execute_result"
    }
   ],
   "source": [
    "MPG_df.head()"
   ]
  },
  {
   "cell_type": "code",
   "execution_count": 179,
   "id": "34aa76f5",
   "metadata": {},
   "outputs": [
    {
     "name": "stdout",
     "output_type": "stream",
     "text": [
      "manufacturer : object\n",
      "model : object\n",
      "displ : float64\n",
      "year : int64\n",
      "cyl : int64\n",
      "trans : object\n",
      "drv : object\n",
      "cty : int64\n",
      "hwy : int64\n",
      "fl : object\n",
      "class : object\n"
     ]
    }
   ],
   "source": [
    "# data types of each column\n",
    "for column in MPG_df.columns:\n",
    "    print(f'{column} : {MPG_df[column].dtype}')"
   ]
  },
  {
   "cell_type": "markdown",
   "id": "23e2abfe",
   "metadata": {},
   "source": [
    "### 2. Split the dataset into different car classes. For each class, perform a linear regression on the dependency of hwy on displ"
   ]
  },
  {
   "cell_type": "code",
   "execution_count": 180,
   "id": "5b17b0be",
   "metadata": {},
   "outputs": [
    {
     "data": {
      "text/plain": [
       "array(['compact', 'midsize', 'suv', '2seater', 'minivan', 'pickup',\n",
       "       'subcompact'], dtype=object)"
      ]
     },
     "execution_count": 180,
     "metadata": {},
     "output_type": "execute_result"
    }
   ],
   "source": [
    "#inspecting unique car classes\n",
    "\n",
    "car_classes = MPG_df['class'].unique()\n",
    "car_classes"
   ]
  },
  {
   "cell_type": "code",
   "execution_count": 181,
   "id": "a9e1999f",
   "metadata": {},
   "outputs": [],
   "source": [
    "#perform a linear regression on the dependency of hwy on displ\n",
    "import statsmodels.api as sm\n",
    "import matplotlib.pyplot as plt\n",
    "\n",
    "def perform_regression(df):\n",
    "    regression_results = {}\n",
    "    \n",
    "    for car_class in car_classes: \n",
    "        df_class = MPG_df[MPG_df['class'] == car_class]\n",
    "        X = df_class['hwy'] #dependent variable\n",
    "        y = df_class['displ'] #independent variable\n",
    "        X = sm.add_constant(X)\n",
    "\n",
    "        # Fit a linear regression model\n",
    "        model = sm.OLS(y, X).fit()\n",
    "        print(f'{car_class:}\\n{model.params}\\n')\n"
   ]
  },
  {
   "cell_type": "code",
   "execution_count": 182,
   "id": "0c8ab1a5",
   "metadata": {},
   "outputs": [
    {
     "name": "stdout",
     "output_type": "stream",
     "text": [
      "compact\n",
      "const    4.199243\n",
      "hwy     -0.066214\n",
      "dtype: float64\n",
      "\n",
      "midsize\n",
      "const    7.687410\n",
      "hwy     -0.174606\n",
      "dtype: float64\n",
      "\n",
      "suv\n",
      "const    8.694126\n",
      "hwy     -0.233751\n",
      "dtype: float64\n",
      "\n",
      "2seater\n",
      "const    7.40\n",
      "hwy     -0.05\n",
      "dtype: float64\n",
      "\n",
      "minivan\n",
      "const    4.475641\n",
      "hwy     -0.048504\n",
      "dtype: float64\n",
      "\n",
      "pickup\n",
      "const    8.255309\n",
      "hwy     -0.227334\n",
      "dtype: float64\n",
      "\n",
      "subcompact\n",
      "const    6.645268\n",
      "hwy     -0.141608\n",
      "dtype: float64\n",
      "\n"
     ]
    }
   ],
   "source": [
    "perform_regression(car_classes)"
   ]
  },
  {
   "cell_type": "markdown",
   "id": "049af416",
   "metadata": {},
   "source": [
    "### 3. Give a scatter plot of hwy against displ. Make sure that the class of each car can be determined from the plot. Add straight lines showing the regression lines for each class. Make sure that your plot has appropriate axes labels and legends"
   ]
  },
  {
   "cell_type": "code",
   "execution_count": null,
   "id": "9d9ae4d0",
   "metadata": {},
   "outputs": [],
   "source": []
  },
  {
   "cell_type": "code",
   "execution_count": null,
   "id": "9107a4ca",
   "metadata": {},
   "outputs": [],
   "source": []
  },
  {
   "cell_type": "code",
   "execution_count": null,
   "id": "d74e8bd6",
   "metadata": {},
   "outputs": [],
   "source": []
  },
  {
   "cell_type": "markdown",
   "id": "aceb6235",
   "metadata": {},
   "source": [
    "### 4. Group the data by class and year and compute the median of hwy for each group. Present the resulting dataset as a table."
   ]
  },
  {
   "cell_type": "code",
   "execution_count": 194,
   "id": "6dd033f2",
   "metadata": {},
   "outputs": [],
   "source": [
    "median_hwy_by_class = MPG_df.groupby(['class','year'])['hwy'].median().reset_index()"
   ]
  },
  {
   "cell_type": "code",
   "execution_count": 200,
   "id": "f2702133",
   "metadata": {},
   "outputs": [],
   "source": [
    "median_hwy_by_class.rename(columns = {'hwy':'median_hwy'}, inplace = True)"
   ]
  },
  {
   "cell_type": "code",
   "execution_count": 201,
   "id": "77b6754c",
   "metadata": {},
   "outputs": [
    {
     "data": {
      "text/html": [
       "<div>\n",
       "<style scoped>\n",
       "    .dataframe tbody tr th:only-of-type {\n",
       "        vertical-align: middle;\n",
       "    }\n",
       "\n",
       "    .dataframe tbody tr th {\n",
       "        vertical-align: top;\n",
       "    }\n",
       "\n",
       "    .dataframe thead th {\n",
       "        text-align: right;\n",
       "    }\n",
       "</style>\n",
       "<table border=\"1\" class=\"dataframe\">\n",
       "  <thead>\n",
       "    <tr style=\"text-align: right;\">\n",
       "      <th></th>\n",
       "      <th>class</th>\n",
       "      <th>year</th>\n",
       "      <th>median_hwy</th>\n",
       "    </tr>\n",
       "  </thead>\n",
       "  <tbody>\n",
       "    <tr>\n",
       "      <th>0</th>\n",
       "      <td>2seater</td>\n",
       "      <td>1999</td>\n",
       "      <td>24.5</td>\n",
       "    </tr>\n",
       "    <tr>\n",
       "      <th>1</th>\n",
       "      <td>2seater</td>\n",
       "      <td>2008</td>\n",
       "      <td>25.0</td>\n",
       "    </tr>\n",
       "    <tr>\n",
       "      <th>2</th>\n",
       "      <td>compact</td>\n",
       "      <td>1999</td>\n",
       "      <td>26.0</td>\n",
       "    </tr>\n",
       "    <tr>\n",
       "      <th>3</th>\n",
       "      <td>compact</td>\n",
       "      <td>2008</td>\n",
       "      <td>29.0</td>\n",
       "    </tr>\n",
       "    <tr>\n",
       "      <th>4</th>\n",
       "      <td>midsize</td>\n",
       "      <td>1999</td>\n",
       "      <td>26.0</td>\n",
       "    </tr>\n",
       "    <tr>\n",
       "      <th>5</th>\n",
       "      <td>midsize</td>\n",
       "      <td>2008</td>\n",
       "      <td>28.0</td>\n",
       "    </tr>\n",
       "    <tr>\n",
       "      <th>6</th>\n",
       "      <td>minivan</td>\n",
       "      <td>1999</td>\n",
       "      <td>22.0</td>\n",
       "    </tr>\n",
       "    <tr>\n",
       "      <th>7</th>\n",
       "      <td>minivan</td>\n",
       "      <td>2008</td>\n",
       "      <td>23.0</td>\n",
       "    </tr>\n",
       "    <tr>\n",
       "      <th>8</th>\n",
       "      <td>pickup</td>\n",
       "      <td>1999</td>\n",
       "      <td>17.0</td>\n",
       "    </tr>\n",
       "    <tr>\n",
       "      <th>9</th>\n",
       "      <td>pickup</td>\n",
       "      <td>2008</td>\n",
       "      <td>17.0</td>\n",
       "    </tr>\n",
       "    <tr>\n",
       "      <th>10</th>\n",
       "      <td>subcompact</td>\n",
       "      <td>1999</td>\n",
       "      <td>26.0</td>\n",
       "    </tr>\n",
       "    <tr>\n",
       "      <th>11</th>\n",
       "      <td>subcompact</td>\n",
       "      <td>2008</td>\n",
       "      <td>26.5</td>\n",
       "    </tr>\n",
       "    <tr>\n",
       "      <th>12</th>\n",
       "      <td>suv</td>\n",
       "      <td>1999</td>\n",
       "      <td>17.0</td>\n",
       "    </tr>\n",
       "    <tr>\n",
       "      <th>13</th>\n",
       "      <td>suv</td>\n",
       "      <td>2008</td>\n",
       "      <td>18.0</td>\n",
       "    </tr>\n",
       "  </tbody>\n",
       "</table>\n",
       "</div>"
      ],
      "text/plain": [
       "         class  year  median_hwy\n",
       "0      2seater  1999        24.5\n",
       "1      2seater  2008        25.0\n",
       "2      compact  1999        26.0\n",
       "3      compact  2008        29.0\n",
       "4      midsize  1999        26.0\n",
       "5      midsize  2008        28.0\n",
       "6      minivan  1999        22.0\n",
       "7      minivan  2008        23.0\n",
       "8       pickup  1999        17.0\n",
       "9       pickup  2008        17.0\n",
       "10  subcompact  1999        26.0\n",
       "11  subcompact  2008        26.5\n",
       "12         suv  1999        17.0\n",
       "13         suv  2008        18.0"
      ]
     },
     "execution_count": 201,
     "metadata": {},
     "output_type": "execute_result"
    }
   ],
   "source": [
    "median_hwy_by_class"
   ]
  },
  {
   "cell_type": "markdown",
   "id": "ab9c0158",
   "metadata": {},
   "source": [
    "# Exercise 1.3: hue rotation.\n",
    "Import the photo of parrots used in the lecture (available at https://en.wikipedia.org/wik\n",
    "i/File:BlueAndYellowMacaw_AraArarauna.jpg) in Python as shown in the lecture. Then for\n",
    "a given angle φ ∈ [0, 2π), implement a function that converts the image to HSV space, applies a\n",
    "rotation by angle φ to the hue channel (where φ = 2π would correspond to a whole rotation and\n",
    "is thus equivalent to φ = 0), and transforms the resulting image back to RGB space. Apply this\n",
    "function to the image for φ ∈ { k\n",
    "2π\n",
    "|k ∈ {0, 1, 2, 3, 4}} and visualize the obtained `rotated' images."
   ]
  },
  {
   "cell_type": "code",
   "execution_count": null,
   "id": "24ad6f78",
   "metadata": {},
   "outputs": [],
   "source": []
  }
 ],
 "metadata": {
  "kernelspec": {
   "display_name": "Python 3 (ipykernel)",
   "language": "python",
   "name": "python3"
  },
  "language_info": {
   "codemirror_mode": {
    "name": "ipython",
    "version": 3
   },
   "file_extension": ".py",
   "mimetype": "text/x-python",
   "name": "python",
   "nbconvert_exporter": "python",
   "pygments_lexer": "ipython3",
   "version": "3.8.5"
  }
 },
 "nbformat": 4,
 "nbformat_minor": 5
}
