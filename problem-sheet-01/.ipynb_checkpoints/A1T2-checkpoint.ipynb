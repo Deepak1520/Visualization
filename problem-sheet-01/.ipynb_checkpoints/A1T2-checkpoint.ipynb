{
 "cells": [
  {
   "cell_type": "code",
   "execution_count": 1,
   "metadata": {
    "cell_id": "119f1451e26c4352bae08f57cd39de62",
    "deepnote_app_block_visible": true,
    "deepnote_cell_type": "code",
    "deepnote_table_loading": false,
    "deepnote_table_state": {
     "filters": [],
     "pageIndex": 2,
     "pageSize": 100,
     "sortBy": []
    },
    "deepnote_to_be_reexecuted": false,
    "execution_millis": 471,
    "execution_start": 1713538831914,
    "source_hash": "3a6c3a6e"
   },
   "outputs": [],
   "source": [
    "import pandas as pd\n",
    "import numpy as np\n",
    "from tabulate import tabulate\n",
    "import matplotlib.pyplot as plt\n"
   ]
  },
  {
   "cell_type": "code",
   "execution_count": 2,
   "metadata": {
    "cell_id": "39261f5989004b268b2fd4323d5f962a",
    "deepnote_app_block_visible": true,
    "deepnote_cell_type": "code",
    "deepnote_to_be_reexecuted": false,
    "execution_millis": 253,
    "execution_start": 1713538832387,
    "source_hash": "3da431cd"
   },
   "outputs": [
    {
     "data": {
      "application/vnd.deepnote.dataframe.v3+json": {
       "column_count": 4,
       "columns": [
        {
         "dtype": "object",
         "name": "algo",
         "stats": {
          "categories": [
           {
            "count": 30,
            "name": "distributed"
           },
           {
            "count": 4,
            "name": "single"
           }
          ],
          "nan_count": 0,
          "unique_count": 2
         }
        },
        {
         "dtype": "int64",
         "name": "size",
         "stats": {
          "histogram": [
           {
            "bin_end": 423116.8,
            "bin_start": 4096,
            "count": 24
           },
           {
            "bin_end": 842137.6,
            "bin_start": 423116.8,
            "count": 0
           },
           {
            "bin_end": 1261158.4,
            "bin_start": 842137.6,
            "count": 5
           },
           {
            "bin_end": 1680179.2,
            "bin_start": 1261158.4,
            "count": 0
           },
           {
            "bin_end": 2099200,
            "bin_start": 1680179.2,
            "count": 0
           },
           {
            "bin_end": 2518220.8,
            "bin_start": 2099200,
            "count": 0
           },
           {
            "bin_end": 2937241.6,
            "bin_start": 2518220.8,
            "count": 0
           },
           {
            "bin_end": 3356262.4,
            "bin_start": 2937241.6,
            "count": 0
           },
           {
            "bin_end": 3775283.1999999997,
            "bin_start": 3356262.4,
            "count": 0
           },
           {
            "bin_end": 4194304,
            "bin_start": 3775283.1999999997,
            "count": 5
           }
          ],
          "max": "4194304",
          "min": "4096",
          "nan_count": 0,
          "unique_count": 6
         }
        },
        {
         "dtype": "int64",
         "name": "thread",
         "stats": {
          "histogram": [
           {
            "bin_end": 1.4,
            "bin_start": 1,
            "count": 10
           },
           {
            "bin_end": 1.8,
            "bin_start": 1.4,
            "count": 0
           },
           {
            "bin_end": 2.2,
            "bin_start": 1.8,
            "count": 6
           },
           {
            "bin_end": 2.6,
            "bin_start": 2.2,
            "count": 0
           },
           {
            "bin_end": 3,
            "bin_start": 2.6,
            "count": 0
           },
           {
            "bin_end": 3.4000000000000004,
            "bin_start": 3,
            "count": 6
           },
           {
            "bin_end": 3.8000000000000003,
            "bin_start": 3.4000000000000004,
            "count": 0
           },
           {
            "bin_end": 4.2,
            "bin_start": 3.8000000000000003,
            "count": 6
           },
           {
            "bin_end": 4.6,
            "bin_start": 4.2,
            "count": 0
           },
           {
            "bin_end": 5,
            "bin_start": 4.6,
            "count": 6
           }
          ],
          "max": "5",
          "min": "1",
          "nan_count": 0,
          "unique_count": 5
         }
        },
        {
         "dtype": "float64",
         "name": "runtime",
         "stats": {
          "histogram": [
           {
            "bin_end": 485.82844504409366,
            "bin_start": 1.475265449947781,
            "count": 27
           },
           {
            "bin_end": 970.1816246382396,
            "bin_start": 485.82844504409366,
            "count": 1
           },
           {
            "bin_end": 1454.5348042323856,
            "bin_start": 970.1816246382396,
            "count": 3
           },
           {
            "bin_end": 1938.8879838265314,
            "bin_start": 1454.5348042323856,
            "count": 1
           },
           {
            "bin_end": 2423.2411634206774,
            "bin_start": 1938.8879838265314,
            "count": 0
           },
           {
            "bin_end": 2907.5943430148236,
            "bin_start": 2423.2411634206774,
            "count": 1
           },
           {
            "bin_end": 3391.9475226089694,
            "bin_start": 2907.5943430148236,
            "count": 0
           },
           {
            "bin_end": 3876.300702203115,
            "bin_start": 3391.9475226089694,
            "count": 0
           },
           {
            "bin_end": 4360.653881797261,
            "bin_start": 3876.300702203115,
            "count": 0
           },
           {
            "bin_end": 4845.007061391407,
            "bin_start": 4360.653881797261,
            "count": 1
           }
          ],
          "max": "4845.007061391407",
          "min": "1.475265449947781",
          "nan_count": 0,
          "unique_count": 34
         }
        },
        {
         "dtype": "int64",
         "name": "_deepnote_index_column"
        }
       ],
       "row_count": 34,
       "rows": [
        {
         "_deepnote_index_column": 0,
         "algo": "distributed",
         "runtime": 3.736606470743815,
         "size": 4096,
         "thread": 1
        },
        {
         "_deepnote_index_column": 1,
         "algo": "distributed",
         "runtime": 14.792793687184652,
         "size": 16384,
         "thread": 1
        },
        {
         "_deepnote_index_column": 2,
         "algo": "distributed",
         "runtime": 59.12334657775031,
         "size": 65536,
         "thread": 1
        },
        {
         "_deepnote_index_column": 3,
         "algo": "distributed",
         "runtime": 240.7474482483334,
         "size": 262144,
         "thread": 1
        },
        {
         "_deepnote_index_column": 4,
         "algo": "distributed",
         "runtime": 1097.7883522351583,
         "size": 1048576,
         "thread": 1
        },
        {
         "_deepnote_index_column": 5,
         "algo": "distributed",
         "runtime": 4845.007061391407,
         "size": 4194304,
         "thread": 1
        },
        {
         "_deepnote_index_column": 6,
         "algo": "single",
         "runtime": 3.6226933683667855,
         "size": 4096,
         "thread": 1
        },
        {
         "_deepnote_index_column": 7,
         "algo": "single",
         "runtime": 26.792361004011973,
         "size": 16384,
         "thread": 1
        },
        {
         "_deepnote_index_column": 8,
         "algo": "single",
         "runtime": 127.812326499394,
         "size": 65536,
         "thread": 1
        },
        {
         "_deepnote_index_column": 9,
         "algo": "single",
         "runtime": 281.99478266920363,
         "size": 262144,
         "thread": 1
        },
        {
         "_deepnote_index_column": 10,
         "algo": "distributed",
         "runtime": 2.133074198828804,
         "size": 4096,
         "thread": 2
        },
        {
         "_deepnote_index_column": 11,
         "algo": "distributed",
         "runtime": 7.894031026628283,
         "size": 16384,
         "thread": 2
        },
        {
         "_deepnote_index_column": 12,
         "algo": "distributed",
         "runtime": 30.76248647901747,
         "size": 65536,
         "thread": 2
        },
        {
         "_deepnote_index_column": 13,
         "algo": "distributed",
         "runtime": 124.44867862065634,
         "size": 262144,
         "thread": 2
        },
        {
         "_deepnote_index_column": 14,
         "algo": "distributed",
         "runtime": 567.0381718158721,
         "size": 1048576,
         "thread": 2
        },
        {
         "_deepnote_index_column": 15,
         "algo": "distributed",
         "runtime": 2501.408669482337,
         "size": 4194304,
         "thread": 2
        },
        {
         "_deepnote_index_column": 20,
         "algo": "distributed",
         "runtime": 1.6734406895107694,
         "size": 4096,
         "thread": 3
        },
        {
         "_deepnote_index_column": 21,
         "algo": "distributed",
         "runtime": 5.681170802646213,
         "size": 16384,
         "thread": 3
        },
        {
         "_deepnote_index_column": 22,
         "algo": "distributed",
         "runtime": 21.43660822974311,
         "size": 65536,
         "thread": 3
        },
        {
         "_deepnote_index_column": 23,
         "algo": "distributed",
         "runtime": 85.38409444491069,
         "size": 262144,
         "thread": 3
        },
        {
         "_deepnote_index_column": 24,
         "algo": "distributed",
         "runtime": 383.5636172771454,
         "size": 1048576,
         "thread": 3
        },
        {
         "_deepnote_index_column": 25,
         "algo": "distributed",
         "runtime": 1673.959357351727,
         "size": 4194304,
         "thread": 3
        },
        {
         "_deepnote_index_column": 30,
         "algo": "distributed",
         "runtime": 1.515788353814019,
         "size": 4096,
         "thread": 4
        },
        {
         "_deepnote_index_column": 31,
         "algo": "distributed",
         "runtime": 4.597697088453505,
         "size": 16384,
         "thread": 4
        },
        {
         "_deepnote_index_column": 32,
         "algo": "distributed",
         "runtime": 16.510128508673773,
         "size": 65536,
         "thread": 4
        },
        {
         "_deepnote_index_column": 33,
         "algo": "distributed",
         "runtime": 64.7323694229126,
         "size": 262144,
         "thread": 4
        },
        {
         "_deepnote_index_column": 34,
         "algo": "distributed",
         "runtime": 290.18287703196205,
         "size": 1048576,
         "thread": 4
        },
        {
         "_deepnote_index_column": 35,
         "algo": "distributed",
         "runtime": 1269.887091917462,
         "size": 4194304,
         "thread": 4
        },
        {
         "_deepnote_index_column": 40,
         "algo": "distributed",
         "runtime": 1.475265449947781,
         "size": 4096,
         "thread": 5
        },
        {
         "_deepnote_index_column": 41,
         "algo": "distributed",
         "runtime": 3.9882860660552977,
         "size": 16384,
         "thread": 5
        },
        {
         "_deepnote_index_column": 42,
         "algo": "distributed",
         "runtime": 13.63774046897888,
         "size": 65536,
         "thread": 5
        },
        {
         "_deepnote_index_column": 43,
         "algo": "distributed",
         "runtime": 53.54423254860773,
         "size": 262144,
         "thread": 5
        },
        {
         "_deepnote_index_column": 44,
         "algo": "distributed",
         "runtime": 242.4944975905948,
         "size": 1048576,
         "thread": 5
        },
        {
         "_deepnote_index_column": 45,
         "algo": "distributed",
         "runtime": 1072.3781368520524,
         "size": 4194304,
         "thread": 5
        }
       ]
      },
      "text/html": [
       "<div>\n",
       "<style scoped>\n",
       "    .dataframe tbody tr th:only-of-type {\n",
       "        vertical-align: middle;\n",
       "    }\n",
       "\n",
       "    .dataframe tbody tr th {\n",
       "        vertical-align: top;\n",
       "    }\n",
       "\n",
       "    .dataframe thead th {\n",
       "        text-align: right;\n",
       "    }\n",
       "</style>\n",
       "<table border=\"1\" class=\"dataframe\">\n",
       "  <thead>\n",
       "    <tr style=\"text-align: right;\">\n",
       "      <th></th>\n",
       "      <th>algo</th>\n",
       "      <th>size</th>\n",
       "      <th>thread</th>\n",
       "      <th>runtime</th>\n",
       "    </tr>\n",
       "  </thead>\n",
       "  <tbody>\n",
       "    <tr>\n",
       "      <th>0</th>\n",
       "      <td>distributed</td>\n",
       "      <td>4096</td>\n",
       "      <td>1</td>\n",
       "      <td>3.736606</td>\n",
       "    </tr>\n",
       "    <tr>\n",
       "      <th>1</th>\n",
       "      <td>distributed</td>\n",
       "      <td>16384</td>\n",
       "      <td>1</td>\n",
       "      <td>14.792794</td>\n",
       "    </tr>\n",
       "    <tr>\n",
       "      <th>2</th>\n",
       "      <td>distributed</td>\n",
       "      <td>65536</td>\n",
       "      <td>1</td>\n",
       "      <td>59.123347</td>\n",
       "    </tr>\n",
       "    <tr>\n",
       "      <th>3</th>\n",
       "      <td>distributed</td>\n",
       "      <td>262144</td>\n",
       "      <td>1</td>\n",
       "      <td>240.747448</td>\n",
       "    </tr>\n",
       "    <tr>\n",
       "      <th>4</th>\n",
       "      <td>distributed</td>\n",
       "      <td>1048576</td>\n",
       "      <td>1</td>\n",
       "      <td>1097.788352</td>\n",
       "    </tr>\n",
       "    <tr>\n",
       "      <th>5</th>\n",
       "      <td>distributed</td>\n",
       "      <td>4194304</td>\n",
       "      <td>1</td>\n",
       "      <td>4845.007061</td>\n",
       "    </tr>\n",
       "    <tr>\n",
       "      <th>6</th>\n",
       "      <td>single</td>\n",
       "      <td>4096</td>\n",
       "      <td>1</td>\n",
       "      <td>3.622693</td>\n",
       "    </tr>\n",
       "    <tr>\n",
       "      <th>7</th>\n",
       "      <td>single</td>\n",
       "      <td>16384</td>\n",
       "      <td>1</td>\n",
       "      <td>26.792361</td>\n",
       "    </tr>\n",
       "    <tr>\n",
       "      <th>8</th>\n",
       "      <td>single</td>\n",
       "      <td>65536</td>\n",
       "      <td>1</td>\n",
       "      <td>127.812326</td>\n",
       "    </tr>\n",
       "    <tr>\n",
       "      <th>9</th>\n",
       "      <td>single</td>\n",
       "      <td>262144</td>\n",
       "      <td>1</td>\n",
       "      <td>281.994783</td>\n",
       "    </tr>\n",
       "    <tr>\n",
       "      <th>10</th>\n",
       "      <td>distributed</td>\n",
       "      <td>4096</td>\n",
       "      <td>2</td>\n",
       "      <td>2.133074</td>\n",
       "    </tr>\n",
       "    <tr>\n",
       "      <th>11</th>\n",
       "      <td>distributed</td>\n",
       "      <td>16384</td>\n",
       "      <td>2</td>\n",
       "      <td>7.894031</td>\n",
       "    </tr>\n",
       "    <tr>\n",
       "      <th>12</th>\n",
       "      <td>distributed</td>\n",
       "      <td>65536</td>\n",
       "      <td>2</td>\n",
       "      <td>30.762486</td>\n",
       "    </tr>\n",
       "    <tr>\n",
       "      <th>13</th>\n",
       "      <td>distributed</td>\n",
       "      <td>262144</td>\n",
       "      <td>2</td>\n",
       "      <td>124.448679</td>\n",
       "    </tr>\n",
       "    <tr>\n",
       "      <th>14</th>\n",
       "      <td>distributed</td>\n",
       "      <td>1048576</td>\n",
       "      <td>2</td>\n",
       "      <td>567.038172</td>\n",
       "    </tr>\n",
       "    <tr>\n",
       "      <th>15</th>\n",
       "      <td>distributed</td>\n",
       "      <td>4194304</td>\n",
       "      <td>2</td>\n",
       "      <td>2501.408669</td>\n",
       "    </tr>\n",
       "    <tr>\n",
       "      <th>20</th>\n",
       "      <td>distributed</td>\n",
       "      <td>4096</td>\n",
       "      <td>3</td>\n",
       "      <td>1.673441</td>\n",
       "    </tr>\n",
       "    <tr>\n",
       "      <th>21</th>\n",
       "      <td>distributed</td>\n",
       "      <td>16384</td>\n",
       "      <td>3</td>\n",
       "      <td>5.681171</td>\n",
       "    </tr>\n",
       "    <tr>\n",
       "      <th>22</th>\n",
       "      <td>distributed</td>\n",
       "      <td>65536</td>\n",
       "      <td>3</td>\n",
       "      <td>21.436608</td>\n",
       "    </tr>\n",
       "    <tr>\n",
       "      <th>23</th>\n",
       "      <td>distributed</td>\n",
       "      <td>262144</td>\n",
       "      <td>3</td>\n",
       "      <td>85.384094</td>\n",
       "    </tr>\n",
       "    <tr>\n",
       "      <th>24</th>\n",
       "      <td>distributed</td>\n",
       "      <td>1048576</td>\n",
       "      <td>3</td>\n",
       "      <td>383.563617</td>\n",
       "    </tr>\n",
       "    <tr>\n",
       "      <th>25</th>\n",
       "      <td>distributed</td>\n",
       "      <td>4194304</td>\n",
       "      <td>3</td>\n",
       "      <td>1673.959357</td>\n",
       "    </tr>\n",
       "    <tr>\n",
       "      <th>30</th>\n",
       "      <td>distributed</td>\n",
       "      <td>4096</td>\n",
       "      <td>4</td>\n",
       "      <td>1.515788</td>\n",
       "    </tr>\n",
       "    <tr>\n",
       "      <th>31</th>\n",
       "      <td>distributed</td>\n",
       "      <td>16384</td>\n",
       "      <td>4</td>\n",
       "      <td>4.597697</td>\n",
       "    </tr>\n",
       "    <tr>\n",
       "      <th>32</th>\n",
       "      <td>distributed</td>\n",
       "      <td>65536</td>\n",
       "      <td>4</td>\n",
       "      <td>16.510129</td>\n",
       "    </tr>\n",
       "    <tr>\n",
       "      <th>33</th>\n",
       "      <td>distributed</td>\n",
       "      <td>262144</td>\n",
       "      <td>4</td>\n",
       "      <td>64.732369</td>\n",
       "    </tr>\n",
       "    <tr>\n",
       "      <th>34</th>\n",
       "      <td>distributed</td>\n",
       "      <td>1048576</td>\n",
       "      <td>4</td>\n",
       "      <td>290.182877</td>\n",
       "    </tr>\n",
       "    <tr>\n",
       "      <th>35</th>\n",
       "      <td>distributed</td>\n",
       "      <td>4194304</td>\n",
       "      <td>4</td>\n",
       "      <td>1269.887092</td>\n",
       "    </tr>\n",
       "    <tr>\n",
       "      <th>40</th>\n",
       "      <td>distributed</td>\n",
       "      <td>4096</td>\n",
       "      <td>5</td>\n",
       "      <td>1.475265</td>\n",
       "    </tr>\n",
       "    <tr>\n",
       "      <th>41</th>\n",
       "      <td>distributed</td>\n",
       "      <td>16384</td>\n",
       "      <td>5</td>\n",
       "      <td>3.988286</td>\n",
       "    </tr>\n",
       "    <tr>\n",
       "      <th>42</th>\n",
       "      <td>distributed</td>\n",
       "      <td>65536</td>\n",
       "      <td>5</td>\n",
       "      <td>13.637740</td>\n",
       "    </tr>\n",
       "    <tr>\n",
       "      <th>43</th>\n",
       "      <td>distributed</td>\n",
       "      <td>262144</td>\n",
       "      <td>5</td>\n",
       "      <td>53.544233</td>\n",
       "    </tr>\n",
       "    <tr>\n",
       "      <th>44</th>\n",
       "      <td>distributed</td>\n",
       "      <td>1048576</td>\n",
       "      <td>5</td>\n",
       "      <td>242.494498</td>\n",
       "    </tr>\n",
       "    <tr>\n",
       "      <th>45</th>\n",
       "      <td>distributed</td>\n",
       "      <td>4194304</td>\n",
       "      <td>5</td>\n",
       "      <td>1072.378137</td>\n",
       "    </tr>\n",
       "  </tbody>\n",
       "</table>\n",
       "</div>"
      ],
      "text/plain": [
       "           algo     size  thread      runtime\n",
       "0   distributed     4096       1     3.736606\n",
       "1   distributed    16384       1    14.792794\n",
       "2   distributed    65536       1    59.123347\n",
       "3   distributed   262144       1   240.747448\n",
       "4   distributed  1048576       1  1097.788352\n",
       "5   distributed  4194304       1  4845.007061\n",
       "6        single     4096       1     3.622693\n",
       "7        single    16384       1    26.792361\n",
       "8        single    65536       1   127.812326\n",
       "9        single   262144       1   281.994783\n",
       "10  distributed     4096       2     2.133074\n",
       "11  distributed    16384       2     7.894031\n",
       "12  distributed    65536       2    30.762486\n",
       "13  distributed   262144       2   124.448679\n",
       "14  distributed  1048576       2   567.038172\n",
       "15  distributed  4194304       2  2501.408669\n",
       "20  distributed     4096       3     1.673441\n",
       "21  distributed    16384       3     5.681171\n",
       "22  distributed    65536       3    21.436608\n",
       "23  distributed   262144       3    85.384094\n",
       "24  distributed  1048576       3   383.563617\n",
       "25  distributed  4194304       3  1673.959357\n",
       "30  distributed     4096       4     1.515788\n",
       "31  distributed    16384       4     4.597697\n",
       "32  distributed    65536       4    16.510129\n",
       "33  distributed   262144       4    64.732369\n",
       "34  distributed  1048576       4   290.182877\n",
       "35  distributed  4194304       4  1269.887092\n",
       "40  distributed     4096       5     1.475265\n",
       "41  distributed    16384       5     3.988286\n",
       "42  distributed    65536       5    13.637740\n",
       "43  distributed   262144       5    53.544233\n",
       "44  distributed  1048576       5   242.494498\n",
       "45  distributed  4194304       5  1072.378137"
      ]
     },
     "execution_count": 2,
     "metadata": {},
     "output_type": "execute_result"
    }
   ],
   "source": [
    "# Read CSV file, skipping comment lines\n",
    "df = pd.read_csv('runtimes.csv', comment='#')\n",
    "melted_df = pd.melt(df, id_vars=['algo', 'size'], value_vars=['time1', 'time2', 'time3', 'time4', 'time5'], var_name='thread', value_name='runtime')\n",
    "melted_df=melted_df.dropna()\n",
    "melted_df['thread'] = melted_df['thread'].str.extract(r'time(\\d+)').astype(int)\n",
    "melted_df\n"
   ]
  },
  {
   "cell_type": "code",
   "execution_count": 3,
   "metadata": {
    "cell_id": "add69e10b33b4ff7bfe61e319b9188a5",
    "deepnote_app_block_visible": true,
    "deepnote_cell_type": "code",
    "deepnote_to_be_reexecuted": false,
    "execution_millis": 403,
    "execution_start": 1713538832510,
    "source_hash": "b623e53d"
   },
   "outputs": [],
   "source": []
  },
  {
   "cell_type": "markdown",
   "metadata": {
    "cell_id": "e9b8ee6e25a341a59686f38e0e9bf9cf",
    "deepnote_app_block_visible": true,
    "deepnote_cell_type": "text-cell-h1",
    "formattedRanges": [],
    "is_collapsed": false
   },
   "source": [
    "# ASSIGNMENT 1 TASK 2"
   ]
  },
  {
   "cell_type": "code",
   "execution_count": 3,
   "metadata": {
    "cell_id": "408ed770ca5b47d182b05935cf3192fb",
    "deepnote_app_block_visible": true,
    "deepnote_cell_type": "code",
    "deepnote_to_be_reexecuted": false,
    "execution_millis": 514,
    "execution_start": 1713538832525,
    "source_hash": "b3541977"
   },
   "outputs": [
    {
     "name": "stderr",
     "output_type": "stream",
     "text": [
      "/tmp/ipykernel_129/2449894986.py:12: RankWarning: Polyfit may be poorly conditioned\n",
      "  m,c= np.polyfit(x,y,1)\n",
      "/tmp/ipykernel_129/2449894986.py:12: RankWarning: Polyfit may be poorly conditioned\n",
      "  m,c= np.polyfit(x,y,1)\n",
      "/tmp/ipykernel_129/2449894986.py:12: RankWarning: Polyfit may be poorly conditioned\n",
      "  m,c= np.polyfit(x,y,1)\n",
      "/tmp/ipykernel_129/2449894986.py:12: RankWarning: Polyfit may be poorly conditioned\n",
      "  m,c= np.polyfit(x,y,1)\n",
      "/tmp/ipykernel_129/2449894986.py:12: RankWarning: Polyfit may be poorly conditioned\n",
      "  m,c= np.polyfit(x,y,1)\n",
      "/tmp/ipykernel_129/2449894986.py:12: RankWarning: Polyfit may be poorly conditioned\n",
      "  m,c= np.polyfit(x,y,1)\n",
      "/tmp/ipykernel_129/2449894986.py:12: RankWarning: Polyfit may be poorly conditioned\n",
      "  m,c= np.polyfit(x,y,1)\n",
      "/tmp/ipykernel_129/2449894986.py:12: RankWarning: Polyfit may be poorly conditioned\n",
      "  m,c= np.polyfit(x,y,1)\n",
      "/tmp/ipykernel_129/2449894986.py:12: RankWarning: Polyfit may be poorly conditioned\n",
      "  m,c= np.polyfit(x,y,1)\n",
      "/tmp/ipykernel_129/2449894986.py:12: RankWarning: Polyfit may be poorly conditioned\n",
      "  m,c= np.polyfit(x,y,1)\n",
      "/tmp/ipykernel_129/2449894986.py:12: RankWarning: Polyfit may be poorly conditioned\n",
      "  m,c= np.polyfit(x,y,1)\n",
      "/tmp/ipykernel_129/2449894986.py:12: RankWarning: Polyfit may be poorly conditioned\n",
      "  m,c= np.polyfit(x,y,1)\n",
      "/tmp/ipykernel_129/2449894986.py:12: RankWarning: Polyfit may be poorly conditioned\n",
      "  m,c= np.polyfit(x,y,1)\n"
     ]
    },
    {
     "data": {
      "image/png": "[encoded data removed]",
      "text/plain": [
       "<Figure size 1000x600 with 1 Axes>"
      ]
     },
     "metadata": {
      "image/png": {
       "height": 547,
       "width": 841
      }
     },
     "output_type": "display_data"
    }
   ],
   "source": [
    "df=pd.read_csv('mpg-data.csv')\n",
    "#linear regression: instead of using spilit data, used main data and looped over each class\n",
    "clas= df['class'].unique()\n",
    "plt.figure(figsize=(10,6))\n",
    "for C in clas:\n",
    "    fdf=df[df['class']==C]\n",
    "    x=[]\n",
    "    y=[] \n",
    "    for d, h in zip(fdf['displ'], fdf['hwy']):\n",
    "        x.append(float(d))\n",
    "        y.append(float(h))\n",
    "        m,c= np.polyfit(x,y,1)\n",
    "    x= [float(a) for a in x]\n",
    "    y_regression = [float(m)*xi + c for xi in x]\n",
    "\n",
    "    # Plot the regression line\n",
    "    plt.plot(x, y_regression,label=f'{C}')\n",
    "    plt.scatter(x,y)\n",
    "# Add labels and legend\n",
    "plt.xlabel('engine displacement, in litres')\n",
    "plt.ylabel('highway miles per gallon')\n",
    "plt.title(f\"Linear Regression\")\n",
    "plt.legend()\n",
    "\n",
    "# Show plot\n",
    "plt.show()\n"
   ]
  },
  {
   "cell_type": "code",
   "execution_count": 4,
   "metadata": {
    "cell_id": "d0a2fbbd66374311bd8b315171e7f5c9",
    "deepnote_app_block_visible": true,
    "deepnote_cell_type": "code",
    "deepnote_to_be_reexecuted": false,
    "execution_millis": 418,
    "execution_start": 1713538833078,
    "source_hash": "3cf75235"
   },
   "outputs": [
    {
     "name": "stdout",
     "output_type": "stream",
     "text": [
      "+------------+----------+\n",
      "| Class      |   Median |\n",
      "+============+==========+\n",
      "| compact    |       24 |\n",
      "+------------+----------+\n",
      "| midsize    |       26 |\n",
      "+------------+----------+\n",
      "| suv        |       18 |\n",
      "+------------+----------+\n",
      "| 2seater    |       24 |\n",
      "+------------+----------+\n",
      "| minivan    |       23 |\n",
      "+------------+----------+\n",
      "| pickup     |       20 |\n",
      "+------------+----------+\n",
      "| subcompact |       29 |\n",
      "+------------+----------+\n",
      "| 1999       |       26 |\n",
      "+------------+----------+\n",
      "| 2008       |       26 |\n",
      "+------------+----------+\n"
     ]
    }
   ],
   "source": [
    "\n",
    "clas= df['class'].unique()\n",
    "dict1={}\n",
    "for c in clas:\n",
    "    arr=[]\n",
    "    fdf=df[df['class']==c]\n",
    "    for d in fdf['hwy']:\n",
    "        arr.append(d)\n",
    "    dict1.update({c:np.median(d)})\n",
    "\n",
    "year= df['year'].unique()\n",
    "\n",
    "for c in year:\n",
    "    arr=[]\n",
    "    fdf=df[df['year']==c]\n",
    "    for d in fdf['hwy']:\n",
    "        arr.append(d)\n",
    "    dict1.update({c:np.median(d)})\n",
    "   \n",
    "table = [[key, value] for key, value in dict1.items()]\n",
    "print(tabulate(table, headers=['Class', 'Median'], tablefmt='grid'))"
   ]
  },
  {
   "cell_type": "markdown",
   "metadata": {
    "cell_id": "967e978c1d194f769695e891c865ea35",
    "deepnote_app_block_visible": true,
    "deepnote_cell_type": "text-cell-h1",
    "formattedRanges": []
   },
   "source": [
    "# Assignment 1 Task 3"
   ]
  },
  {
   "cell_type": "code",
   "execution_count": null,
   "metadata": {
    "cell_id": "ff6ebc3fca8d48d08f51e873b0c36790",
    "deepnote_app_block_visible": true,
    "deepnote_cell_type": "code",
    "deepnote_to_be_reexecuted": true,
    "source_hash": "b623e53d"
   },
   "outputs": [],
   "source": []
  },
  {
   "cell_type": "markdown",
   "metadata": {
    "created_in_deepnote_cell": true,
    "deepnote_cell_type": "markdown"
   },
   "source": [
    "<a style='text-decoration:none;line-height:16px;display:flex;color:#5B5B62;padding:10px;justify-content:end;' href='https://deepnote.com?utm_source=created-in-deepnote-cell&projectId=850d2986-0611-43db-b576-ae306158d6b4' target=\"_blank\">\n",
    "<img alt='Created in deepnote.com' style='display:inline;max-height:16px;margin:0px;margin-right:7.5px;' src='data:image/svg+xml;base64,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' > </img>\n",
    "Created in <span style='font-weight:600;margin-left:4px;'>Deepnote</span></a>"
   ]
  }
 ],
 "metadata": {
  "deepnote_app_layout": "powerful-article",
  "deepnote_app_reactivity_enabled": true,
  "deepnote_execution_queue": [],
  "deepnote_notebook_id": "506841b0a41e47eb8434eeb97c004f98",
  "kernelspec": {
   "display_name": "Python 3 (ipykernel)",
   "language": "python",
   "name": "python3"
  },
  "language_info": {
   "codemirror_mode": {
    "name": "ipython",
    "version": 3
   },
   "file_extension": ".py",
   "mimetype": "text/x-python",
   "name": "python",
   "nbconvert_exporter": "python",
   "pygments_lexer": "ipython3",
   "version": "3.8.5"
  }
 },
 "nbformat": 4,
 "nbformat_minor": 1
}
