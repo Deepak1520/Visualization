{
 "cells": [
  {
   "cell_type": "markdown",
   "id": "1eaf9e89-9edc-4da6-9f38-dcc8875be453",
   "metadata": {},
   "source": [
    "# 1.1 Tidying a dataset:\n",
    "\n",
    "\n"
   ]
  },
  {
   "cell_type": "code",
   "execution_count": 42,
   "id": "8d8f7dc5-d816-4ba7-ad06-be307aab877f",
   "metadata": {},
   "outputs": [
    {
     "name": "stdout",
     "output_type": "stream",
     "text": [
      "           algo     size  threads         time\n",
      "0   distributed     4096        1     3.736606\n",
      "1   distributed    16384        1    14.792794\n",
      "2   distributed    65536        1    59.123347\n",
      "3   distributed   262144        1   240.747448\n",
      "4   distributed  1048576        1  1097.788352\n",
      "5   distributed  4194304        1  4845.007061\n",
      "6        single     4096        1     3.622693\n",
      "7        single    16384        1    26.792361\n",
      "8        single    65536        1   127.812326\n",
      "9        single   262144        1   281.994783\n",
      "10  distributed     4096        2     2.133074\n",
      "11  distributed    16384        2     7.894031\n",
      "12  distributed    65536        2    30.762486\n",
      "13  distributed   262144        2   124.448679\n",
      "14  distributed  1048576        2   567.038172\n",
      "15  distributed  4194304        2  2501.408669\n",
      "20  distributed     4096        3     1.673441\n",
      "21  distributed    16384        3     5.681171\n",
      "22  distributed    65536        3    21.436608\n",
      "23  distributed   262144        3    85.384094\n",
      "24  distributed  1048576        3   383.563617\n",
      "25  distributed  4194304        3  1673.959357\n",
      "30  distributed     4096        4     1.515788\n",
      "31  distributed    16384        4     4.597697\n",
      "32  distributed    65536        4    16.510129\n",
      "33  distributed   262144        4    64.732369\n",
      "34  distributed  1048576        4   290.182877\n",
      "35  distributed  4194304        4  1269.887092\n",
      "40  distributed     4096        5     1.475265\n",
      "41  distributed    16384        5     3.988286\n",
      "42  distributed    65536        5    13.637740\n",
      "43  distributed   262144        5    53.544233\n",
      "44  distributed  1048576        5   242.494498\n",
      "45  distributed  4194304        5  1072.378137\n"
     ]
    }
   ],
   "source": [
    "import pandas as pd\n",
    "\n",
    "\n",
    "df = pd.read_csv(\"runtimes.csv\", skiprows = 4)\n",
    "\n",
    "\n",
    "# Melt the data frame\n",
    "df_melted = pd.melt(df,id_vars=[\"algo\",\"size\"],var_name ='threads',value_name='time')\n",
    "\n",
    "df_melted['threads']= df_melted['threads'].str.extract(r'time(\\d+)').astype(int)\n",
    "\n",
    "\n",
    "df_processed = df_melted.dropna()\n",
    "print(df_processed)"
   ]
  },
  {
   "cell_type": "markdown",
   "id": "bd25571d-e517-4704-8a8b-bc2124d298fc",
   "metadata": {},
   "source": [
    "# 1.2 basic transformations and visualizations\n"
   ]
  },
  {
   "cell_type": "code",
   "execution_count": 50,
   "id": "642293c8-3125-4ea6-8c89-be3fe941a516",
   "metadata": {},
   "outputs": [
    {
     "name": "stdout",
     "output_type": "stream",
     "text": [
      "    manufacturer   model  displ  year  cyl       trans drv  cty  hwy fl   \n",
      "0           audi      a4    1.8  1999    4    auto(l5)   f   18   29  p  \\\n",
      "1           audi      a4    1.8  1999    4  manual(m5)   f   21   29  p   \n",
      "2           audi      a4    2.0  2008    4  manual(m6)   f   20   31  p   \n",
      "3           audi      a4    2.0  2008    4    auto(av)   f   21   30  p   \n",
      "4           audi      a4    2.8  1999    6    auto(l5)   f   16   26  p   \n",
      "..           ...     ...    ...   ...  ...         ...  ..  ...  ... ..   \n",
      "229   volkswagen  passat    2.0  2008    4    auto(s6)   f   19   28  p   \n",
      "230   volkswagen  passat    2.0  2008    4  manual(m6)   f   21   29  p   \n",
      "231   volkswagen  passat    2.8  1999    6    auto(l5)   f   16   26  p   \n",
      "232   volkswagen  passat    2.8  1999    6  manual(m5)   f   18   26  p   \n",
      "233   volkswagen  passat    3.6  2008    6    auto(s6)   f   17   26  p   \n",
      "\n",
      "       class  \n",
      "0    compact  \n",
      "1    compact  \n",
      "2    compact  \n",
      "3    compact  \n",
      "4    compact  \n",
      "..       ...  \n",
      "229  midsize  \n",
      "230  midsize  \n",
      "231  midsize  \n",
      "232  midsize  \n",
      "233  midsize  \n",
      "\n",
      "[234 rows x 11 columns]\n"
     ]
    }
   ],
   "source": [
    "import pandas as pd\n",
    "df = pd.read_csv(\"mpg-data.csv\")\n",
    "print(df)\n",
    "\n"
   ]
  },
  {
   "cell_type": "markdown",
   "id": "5052c7ef-30a5-4a0a-b59b-384c8ece5d15",
   "metadata": {},
   "source": [
    "# 1.4) visualizing the exponential function\n",
    "\n"
   ]
  },
  {
   "cell_type": "code",
   "execution_count": 10,
   "id": "b26fbb6e-c1ab-44e3-8f70-0b2aec0663ee",
   "metadata": {},
   "outputs": [
    {
     "data": {
      "text/plain": [
       "<matplotlib.image.AxesImage at 0x7fe5a0be6ee0>"
      ]
     },
     "execution_count": 10,
     "metadata": {},
     "output_type": "execute_result"
    },
    {
     "data": {
      "image/png": "[encoded data removed]",
      "text/plain": [
       "<Figure size 432x288 with 1 Axes>"
      ]
     },
     "metadata": {
      "needs_background": "light"
     },
     "output_type": "display_data"
    }
   ],
   "source": [
    "import numpy as np\n",
    "import matplotlib\n",
    "import matplotlib.pyplot as plt\n",
    "\n",
    "# Creating our Cartesian grid:\n",
    "\n",
    "x = np.linspace(-1,1,50)\n",
    "y = np.linspace(-2*np.pi, 2*np.pi, 50)\n",
    "\n",
    "X,Y = np.meshgrid(x,y)\n",
    "\n",
    "# Computing the exponential function:\n",
    "\n",
    "Z = np.exp(X) * (np.cos(Y)+ 1j*np.sin(Y))\n",
    "\n",
    "# Converting to polar co-ordinate form\n",
    "polar_R = np.sqrt(np.square(X)+np.square(Y))\n",
    "polar_Theta = np.arctan2(Y,X)\n",
    "\n",
    "# Polar form -> rcosθ+isinθ\n",
    "polar_Z = polar_R*(np.cos(polar_Theta)+ 1j*np.sin(polar_Theta))\n",
    "\n",
    "\n",
    "# Normalize the hue and value components:\n",
    "hue = (polar_Z.real - np.min(polar_Z.real))/(np.max(polar_Z.real)-np.min(polar_Z.real))\n",
    "value = (polar_Z.imag-np.min(polar_Z.imag))/(np.max(polar_Z.imag)-np.min(polar_Z.imag))\n",
    "# Set saturation to 1\n",
    "saturation = np.ones_like(hue)\n",
    "\n",
    "#Creating the hsv image representation\n",
    "hsv_image = np.stack((hue,saturation,value), axis = -1)\n",
    "rgb_image = matplotlib.colors.hsv_to_rgb(hsv_image)\n",
    "\n",
    "plt.imshow(rgb_image,extent=(-1, 1, -6, 6))\n"
   ]
  },
  {
   "cell_type": "code",
   "execution_count": 55,
   "id": "5c7cde48-f35c-4f84-95d0-f7e73609a7ca",
   "metadata": {},
   "outputs": [],
   "source": []
  },
  {
   "cell_type": "code",
   "execution_count": null,
   "id": "9abb8e9a-1b90-4203-8579-c05d35fda874",
   "metadata": {},
   "outputs": [],
   "source": []
  }
 ],
 "metadata": {
  "kernelspec": {
   "display_name": "Python 3 (ipykernel)",
   "language": "python",
   "name": "python3"
  },
  "language_info": {
   "codemirror_mode": {
    "name": "ipython",
    "version": 3
   },
   "file_extension": ".py",
   "mimetype": "text/x-python",
   "name": "python",
   "nbconvert_exporter": "python",
   "pygments_lexer": "ipython3",
   "version": "3.8.5"
  }
 },
 "nbformat": 4,
 "nbformat_minor": 5
}
